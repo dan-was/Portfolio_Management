{
 "cells": [
  {
   "cell_type": "code",
   "execution_count": 10,
   "metadata": {
    "collapsed": true
   },
   "outputs": [],
   "source": [
    "from data_gathering import download_historical_prices, download_historical_fin_data, download_all_bankier_articles\n",
    "import seaborn as sns\n",
    "sns.set()\n",
    "%matplotlib inline"
   ]
  },
  {
   "cell_type": "code",
   "execution_count": 2,
   "metadata": {
    "collapsed": true
   },
   "outputs": [],
   "source": [
    "bankier_symbol = \"11BIT\"\n",
    "stooq_symbol = \"11b\""
   ]
  },
  {
   "cell_type": "code",
   "execution_count": 3,
   "metadata": {
    "collapsed": true
   },
   "outputs": [],
   "source": [
    "prices = download_historical_prices(stooq_symbol)"
   ]
  },
  {
   "cell_type": "code",
   "execution_count": 5,
   "metadata": {
    "collapsed": false
   },
   "outputs": [
    {
     "data": {
      "text/html": [
       "<div>\n",
       "<table border=\"1\" class=\"dataframe\">\n",
       "  <thead>\n",
       "    <tr style=\"text-align: right;\">\n",
       "      <th></th>\n",
       "      <th>open</th>\n",
       "      <th>high</th>\n",
       "      <th>low</th>\n",
       "      <th>close</th>\n",
       "      <th>volume</th>\n",
       "    </tr>\n",
       "    <tr>\n",
       "      <th>date</th>\n",
       "      <th></th>\n",
       "      <th></th>\n",
       "      <th></th>\n",
       "      <th></th>\n",
       "      <th></th>\n",
       "    </tr>\n",
       "  </thead>\n",
       "  <tbody>\n",
       "    <tr>\n",
       "      <th>2017-11-27</th>\n",
       "      <td>182.0</td>\n",
       "      <td>183.9</td>\n",
       "      <td>178.05</td>\n",
       "      <td>181.90</td>\n",
       "      <td>4083</td>\n",
       "    </tr>\n",
       "    <tr>\n",
       "      <th>2017-11-28</th>\n",
       "      <td>182.0</td>\n",
       "      <td>182.9</td>\n",
       "      <td>181.20</td>\n",
       "      <td>182.45</td>\n",
       "      <td>4459</td>\n",
       "    </tr>\n",
       "    <tr>\n",
       "      <th>2017-11-29</th>\n",
       "      <td>182.5</td>\n",
       "      <td>183.0</td>\n",
       "      <td>180.00</td>\n",
       "      <td>180.00</td>\n",
       "      <td>5818</td>\n",
       "    </tr>\n",
       "    <tr>\n",
       "      <th>2017-11-30</th>\n",
       "      <td>179.0</td>\n",
       "      <td>180.0</td>\n",
       "      <td>171.00</td>\n",
       "      <td>180.00</td>\n",
       "      <td>11275</td>\n",
       "    </tr>\n",
       "    <tr>\n",
       "      <th>2017-12-01</th>\n",
       "      <td>181.5</td>\n",
       "      <td>181.5</td>\n",
       "      <td>173.00</td>\n",
       "      <td>174.40</td>\n",
       "      <td>1847</td>\n",
       "    </tr>\n",
       "  </tbody>\n",
       "</table>\n",
       "</div>"
      ],
      "text/plain": [
       "             open   high     low   close  volume\n",
       "date                                            \n",
       "2017-11-27  182.0  183.9  178.05  181.90    4083\n",
       "2017-11-28  182.0  182.9  181.20  182.45    4459\n",
       "2017-11-29  182.5  183.0  180.00  180.00    5818\n",
       "2017-11-30  179.0  180.0  171.00  180.00   11275\n",
       "2017-12-01  181.5  181.5  173.00  174.40    1847"
      ]
     },
     "execution_count": 5,
     "metadata": {},
     "output_type": "execute_result"
    }
   ],
   "source": [
    "prices.tail()"
   ]
  },
  {
   "cell_type": "code",
   "execution_count": 15,
   "metadata": {
    "collapsed": false
   },
   "outputs": [
    {
     "data": {
      "text/plain": [
       "<matplotlib.axes._subplots.AxesSubplot at 0x23f153430b8>"
      ]
     },
     "execution_count": 15,
     "metadata": {},
     "output_type": "execute_result"
    },
    {
     "data": {
      "image/png": "[encoded data removed]",
      "text/plain": [
       "<matplotlib.figure.Figure at 0x23f153de080>"
      ]
     },
     "metadata": {},
     "output_type": "display_data"
    }
   ],
   "source": [
    "prices['close'].plot(figsize = (10,4))"
   ]
  },
  {
   "cell_type": "code",
   "execution_count": 17,
   "metadata": {
    "collapsed": true
   },
   "outputs": [],
   "source": [
    "fin_data = download_historical_fin_data(bankier_symbol,'q')"
   ]
  },
  {
   "cell_type": "code",
   "execution_count": 18,
   "metadata": {
    "collapsed": false
   },
   "outputs": [
    {
     "data": {
      "text/html": [
       "<div>\n",
       "<table border=\"1\" class=\"dataframe\">\n",
       "  <thead>\n",
       "    <tr style=\"text-align: right;\">\n",
       "      <th></th>\n",
       "      <th>Profit/share</th>\n",
       "      <th>EBITDA</th>\n",
       "      <th>Net revenues</th>\n",
       "      <th>Depreciation</th>\n",
       "      <th>Book value / share</th>\n",
       "      <th>Assets</th>\n",
       "      <th># of shares</th>\n",
       "      <th>Gross profit (loss)</th>\n",
       "      <th>Operational profit (loss)</th>\n",
       "      <th>Equity</th>\n",
       "      <th>Net profit (loss)</th>\n",
       "    </tr>\n",
       "  </thead>\n",
       "  <tbody>\n",
       "    <tr>\n",
       "      <th>2016-III</th>\n",
       "      <td>0.602</td>\n",
       "      <td>2680.0</td>\n",
       "      <td>5226.0</td>\n",
       "      <td>446.0</td>\n",
       "      <td>16.399</td>\n",
       "      <td>38821.0</td>\n",
       "      <td>2217.199</td>\n",
       "      <td>1699.0</td>\n",
       "      <td>2234.0</td>\n",
       "      <td>36360.0</td>\n",
       "      <td>1335.0</td>\n",
       "    </tr>\n",
       "    <tr>\n",
       "      <th>2016-IV</th>\n",
       "      <td>2.467</td>\n",
       "      <td>5202.0</td>\n",
       "      <td>9506.0</td>\n",
       "      <td>636.0</td>\n",
       "      <td>18.999</td>\n",
       "      <td>45649.0</td>\n",
       "      <td>2217.199</td>\n",
       "      <td>6193.0</td>\n",
       "      <td>4566.0</td>\n",
       "      <td>42126.0</td>\n",
       "      <td>5470.0</td>\n",
       "    </tr>\n",
       "    <tr>\n",
       "      <th>2017-I</th>\n",
       "      <td>-0.475</td>\n",
       "      <td>856.0</td>\n",
       "      <td>2907.0</td>\n",
       "      <td>486.0</td>\n",
       "      <td>18.519</td>\n",
       "      <td>42992.0</td>\n",
       "      <td>2217.199</td>\n",
       "      <td>-857.0</td>\n",
       "      <td>370.0</td>\n",
       "      <td>41060.0</td>\n",
       "      <td>-1053.0</td>\n",
       "    </tr>\n",
       "    <tr>\n",
       "      <th>2017-II</th>\n",
       "      <td>0.640</td>\n",
       "      <td>3008.0</td>\n",
       "      <td>5797.0</td>\n",
       "      <td>453.0</td>\n",
       "      <td>18.834</td>\n",
       "      <td>45053.0</td>\n",
       "      <td>2287.199</td>\n",
       "      <td>1476.0</td>\n",
       "      <td>2555.0</td>\n",
       "      <td>43076.0</td>\n",
       "      <td>1464.0</td>\n",
       "    </tr>\n",
       "    <tr>\n",
       "      <th>2017-III</th>\n",
       "      <td>-0.363</td>\n",
       "      <td>-264.0</td>\n",
       "      <td>2733.0</td>\n",
       "      <td>408.0</td>\n",
       "      <td>18.471</td>\n",
       "      <td>44481.0</td>\n",
       "      <td>2287.199</td>\n",
       "      <td>-1001.0</td>\n",
       "      <td>-672.0</td>\n",
       "      <td>42246.0</td>\n",
       "      <td>-830.0</td>\n",
       "    </tr>\n",
       "  </tbody>\n",
       "</table>\n",
       "</div>"
      ],
      "text/plain": [
       "          Profit/share  EBITDA  Net revenues  Depreciation  \\\n",
       "2016-III         0.602  2680.0        5226.0         446.0   \n",
       "2016-IV          2.467  5202.0        9506.0         636.0   \n",
       "2017-I          -0.475   856.0        2907.0         486.0   \n",
       "2017-II          0.640  3008.0        5797.0         453.0   \n",
       "2017-III        -0.363  -264.0        2733.0         408.0   \n",
       "\n",
       "          Book value / share   Assets  # of shares  Gross profit (loss)  \\\n",
       "2016-III              16.399  38821.0     2217.199               1699.0   \n",
       "2016-IV               18.999  45649.0     2217.199               6193.0   \n",
       "2017-I                18.519  42992.0     2217.199               -857.0   \n",
       "2017-II               18.834  45053.0     2287.199               1476.0   \n",
       "2017-III              18.471  44481.0     2287.199              -1001.0   \n",
       "\n",
       "          Operational profit (loss)   Equity  Net profit (loss)  \n",
       "2016-III                     2234.0  36360.0             1335.0  \n",
       "2016-IV                      4566.0  42126.0             5470.0  \n",
       "2017-I                        370.0  41060.0            -1053.0  \n",
       "2017-II                      2555.0  43076.0             1464.0  \n",
       "2017-III                     -672.0  42246.0             -830.0  "
      ]
     },
     "execution_count": 18,
     "metadata": {},
     "output_type": "execute_result"
    }
   ],
   "source": [
    "fin_data.tail()"
   ]
  },
  {
   "cell_type": "code",
   "execution_count": 21,
   "metadata": {
    "collapsed": false
   },
   "outputs": [
    {
     "data": {
      "text/plain": [
       "<matplotlib.axes._subplots.AxesSubplot at 0x23f1547a710>"
      ]
     },
     "execution_count": 21,
     "metadata": {},
     "output_type": "execute_result"
    },
    {
     "data": {
      "image/png": "[encoded data removed]",
      "text/plain": [
       "<matplotlib.figure.Figure at 0x23f16c55780>"
      ]
     },
     "metadata": {},
     "output_type": "display_data"
    }
   ],
   "source": [
    "fin_data['Net profit (loss)'].plot(kind='bar')"
   ]
  },
  {
   "cell_type": "code",
   "execution_count": 18,
   "metadata": {
    "collapsed": false,
    "scrolled": true
   },
   "outputs": [
    {
     "name": "stdout",
     "output_type": "stream",
     "text": [
      "1 of 90 downloaded\n",
      "2 of 90 downloaded\n",
      "3 of 90 downloaded\n",
      "4 of 90 downloaded\n",
      "5 of 90 downloaded\n",
      "6 of 90 downloaded\n",
      "7 of 90 downloaded\n",
      "8 of 90 downloaded\n",
      "9 of 90 downloaded\n",
      "10 of 90 downloaded\n",
      "11 of 90 downloaded\n",
      "12 of 90 downloaded\n",
      "13 of 90 downloaded\n",
      "14 of 90 downloaded\n",
      "15 of 90 downloaded\n",
      "16 of 90 downloaded\n",
      "17 of 90 downloaded\n",
      "18 of 90 downloaded\n",
      "19 of 90 downloaded\n",
      "20 of 90 downloaded\n",
      "21 of 90 downloaded\n",
      "22 of 90 downloaded\n",
      "23 of 90 downloaded\n",
      "24 of 90 downloaded\n",
      "25 of 90 downloaded\n",
      "26 of 90 downloaded\n",
      "27 of 90 downloaded\n",
      "28 of 90 downloaded\n",
      "29 of 90 downloaded\n",
      "30 of 90 downloaded\n",
      "31 of 90 downloaded\n",
      "32 of 90 downloaded\n",
      "33 of 90 downloaded\n",
      "34 of 90 downloaded\n",
      "35 of 90 downloaded\n",
      "36 of 90 downloaded\n",
      "37 of 90 downloaded\n",
      "38 of 90 downloaded\n",
      "39 of 90 downloaded\n",
      "40 of 90 downloaded\n",
      "41 of 90 downloaded\n",
      "42 of 90 downloaded\n",
      "43 of 90 downloaded\n",
      "44 of 90 downloaded\n",
      "45 of 90 downloaded\n",
      "46 of 90 downloaded\n",
      "47 of 90 downloaded\n",
      "48 of 90 downloaded\n",
      "49 of 90 downloaded\n",
      "50 of 90 downloaded\n",
      "51 of 90 downloaded\n",
      "52 of 90 downloaded\n",
      "53 of 90 downloaded\n",
      "54 of 90 downloaded\n",
      "55 of 90 downloaded\n",
      "56 of 90 downloaded\n",
      "57 of 90 downloaded\n",
      "58 of 90 downloaded\n",
      "59 of 90 downloaded\n",
      "60 of 90 downloaded\n",
      "61 of 90 downloaded\n",
      "62 of 90 downloaded\n",
      "63 of 90 downloaded\n",
      "64 of 90 downloaded\n",
      "65 of 90 downloaded\n",
      "66 of 90 downloaded\n",
      "67 of 90 downloaded\n",
      "68 of 90 downloaded\n",
      "69 of 90 downloaded\n",
      "70 of 90 downloaded\n",
      "71 of 90 downloaded\n",
      "72 of 90 downloaded\n",
      "73 of 90 downloaded\n",
      "74 of 90 downloaded\n",
      "75 of 90 downloaded\n",
      "76 of 90 downloaded\n",
      "77 of 90 downloaded\n",
      "78 of 90 downloaded\n",
      "79 of 90 downloaded\n",
      "80 of 90 downloaded\n",
      "81 of 90 downloaded\n",
      "82 of 90 downloaded\n",
      "83 of 90 downloaded\n",
      "84 of 90 downloaded\n",
      "85 of 90 downloaded\n",
      "86 of 90 downloaded\n",
      "87 of 90 downloaded\n",
      "88 of 90 downloaded\n",
      "89 of 90 downloaded\n",
      "90 of 90 downloaded\n"
     ]
    }
   ],
   "source": [
    "articles = download_all_bankier_articles(bankier_symbol)"
   ]
  },
  {
   "cell_type": "code",
   "execution_count": 19,
   "metadata": {
    "collapsed": false
   },
   "outputs": [
    {
     "data": {
      "text/plain": [
       "90"
      ]
     },
     "execution_count": 19,
     "metadata": {},
     "output_type": "execute_result"
    }
   ],
   "source": [
    "len(articles)"
   ]
  },
  {
   "cell_type": "code",
   "execution_count": 22,
   "metadata": {
    "collapsed": false
   },
   "outputs": [
    {
     "data": {
      "text/plain": [
       "['2016-12-09 08:30',\n",
       " '11 bit studios rezygnuje z platformy Games Republic. W ocenie zarządu brakowało jej zarówno wyników, jak i perspektyw. - Zarząd 11 bit studios podjął decyzję o zamknięciu, do końca bieżącego roku, platformy Games Republic z powodu niezadowalających wyników finansowych oraz braku perspektyw ich poprawy w kolejnych kwartałach - czytamy w czwartkowym komunikacie spółki. Według wstępnych szacunków koszty likwidacji platformy wyniosą ok. 3 mln zł i obniżą wyniki spółki za IV kwartał 2016 roku. Odpisy będą miały niegotówkowy charakter. Games Republic to internetowy sklep z grami, w którym można było kupić produkty studia, ale również i tytuły innych producentów. Nawet te zaliczane do klasy \"AAA\". Platforma wystartowała w kwietniu 2014 roku i skierowana była przede wszystkim do klientów międzynarodowych. We wrześniu tego roku zarząd 11 bit poinformował jednak, że do anglojęzycznej wersji dołączy wersja polska. Miał to być początek procesu wprowadzania nowych wersji językowych platformy. Z perspektywy dzisiejszej informacji ruch ten można określić jako próbę ratowania projektu. Jak się okazuje - nieudaną. Rezygnacja z platformy oznacza więc, że 11 bit, przynajmniej póki co, nie pójdzie śladem CD Projektu. Wydaje się bowiem, że Games Republic było próbą powtórzenia historii GOG-u, a więc internetowego sklepu z grami założonego przez CDP w 2008 roku. Obecnie stanowi on bardzo ważny czynnik dywersyfikujący przychody producenta \"Wiedźmina\". Platforma jest rentowna i w samych tylko trzech kwartałach 2016 roku dołożyła do przychodów grupy 93 mln zł. Wygładziła w ten sposób nieco wyniki finansowe, które w przypadku producentów gier tj. CD Projekt wykazują się dużą zmiennością w zależności od kalendarza premier. Na podobny efekt liczono w 11 bit. Projekt w 2016 roku miał wesprzeć przychody spółki, a w 2017 osiągnąć rentowność. Adam Torchała']"
      ]
     },
     "execution_count": 22,
     "metadata": {},
     "output_type": "execute_result"
    }
   ],
   "source": [
    "articles[1][:2]"
   ]
  },
  {
   "cell_type": "code",
   "execution_count": null,
   "metadata": {
    "collapsed": true
   },
   "outputs": [],
   "source": []
  }
 ],
 "metadata": {
  "anaconda-cloud": {},
  "kernelspec": {
   "display_name": "Python [conda root]",
   "language": "python",
   "name": "conda-root-py"
  },
  "language_info": {
   "codemirror_mode": {
    "name": "ipython",
    "version": 3
   },
   "file_extension": ".py",
   "mimetype": "text/x-python",
   "name": "python",
   "nbconvert_exporter": "python",
   "pygments_lexer": "ipython3",
   "version": "3.5.2"
  }
 },
 "nbformat": 4,
 "nbformat_minor": 2
}
